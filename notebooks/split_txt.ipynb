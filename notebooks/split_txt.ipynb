{
 "cells": [
  {
   "cell_type": "markdown",
   "metadata": {},
   "source": [
    "### TXT-Sammeldateien in einzelne Entscheidungen trennen und benennen\n",
    "Sowohl die zur Trennung eingesetzte Zeichenkette als auch die Orte, an denen man Entscheidungsdatum und Aktenzeichen findet, unterscheiden sich, je nachdem, welche Datenquelle man verwendet.\n",
    "Das Skript geht davon aus, dass Batch-Dateien vorliegen, die mehrere Entscheidungen enthalten, deren Anzahl sich aus dem Dateinamen (z.B. '0000-0400.txt') ermitteln lässt."
   ]
  },
  {
   "cell_type": "code",
   "execution_count": null,
   "metadata": {},
   "outputs": [],
   "source": [
    "sourcepath = # Pfad zum Ordner, in dem die TXT-Sammeldateien liegen\n",
    "targetpath = # Pfad zum Ordner, in den die einzelnen Entscheidungen gelegt werden sollen"
   ]
  },
  {
   "cell_type": "code",
   "execution_count": null,
   "metadata": {},
   "outputs": [],
   "source": [
    "import re, string, os"
   ]
  },
  {
   "cell_type": "code",
   "execution_count": null,
   "metadata": {},
   "outputs": [],
   "source": [
    "def txtsplit(collectionfile, number_of_decisions, output_path):\n",
    "    \"\"\"Receives a collectionfile with number_of_decisions different decisions, \n",
    "       splits it into individual decisions, and writes the files to output_path.\"\"\"\n",
    "    \n",
    "    splitter = # Zeichenkette, an welcher der Übergang zwischen Entscheidungen erkennbar ist\n",
    "    \n",
    "    with open(collectionfile, \"r\") as f:\n",
    "        text = f.read()\n",
    "    files = text.split(f\"{splitter}\")[:-1] \n",
    "    # [:-1] ggf. entfernen, falls Splitter nicht Symbol am Ende jeder Entscheidung ist\n",
    "    \n",
    "    assert len(files) == number_of_decisions\n",
    "    \n",
    "    filenames = {f[:-4] for f in os.listdir(output_path) if f.endswith('.txt')}\n",
    "    letters = string.ascii_lowercase\n",
    "    new_filenames = set()\n",
    "    \n",
    "    # Suchmethoden für Datum und Aktenzeichen ggf. anpassen\n",
    "    for text in files: \n",
    "        raw_date = re.search(\"(?<=Entscheidungsdatum:.).*?\\d{4}(?=\\s)\", text, re.DOTALL).group(0).split(\".\")\n",
    "        file_date = f\"{raw_date[-1]}-{raw_date[-2]}-{raw_date[0][-2:]}\"\n",
    "        raw_az = re.search(\"(?<=Aktenzeichen:).*?(XI.*?/\\d{2})\", text, re.DOTALL).group(1)\n",
    "        file_az = raw_az.replace(\"/\", \"-\")\n",
    "        original_filename = f\"{file_date} {file_az}\"\n",
    "        \n",
    "        # Eindeutige Dateinamen sicherstellen\n",
    "        filename = original_filename\n",
    "        idx = 0\n",
    "        while filename in filenames:\n",
    "            filename = f\"{original_filename}_{letters[idx]}\"\n",
    "            idx += 1\n",
    "        filenames.add(filename)\n",
    "        new_filenames.add(filename)\n",
    "        \n",
    "        with open(f\"{output_path}/{filename}.txt\", \"w\") as f:\n",
    "            f.write(text)\n",
    "            \n",
    "    assert len(new_filenames) == len(files)"
   ]
  },
  {
   "cell_type": "code",
   "execution_count": null,
   "metadata": {},
   "outputs": [],
   "source": [
    "for f in os.listdir(sourcepath):\n",
    "    number_of_decisions = int(f[:-4][-4:])-int(f[:4])+1\n",
    "    txtsplit(f'{sourcepath}/{f}', number_of_decisions, targetpath)"
   ]
  },
  {
   "cell_type": "markdown",
   "metadata": {},
   "source": [
    "Ende."
   ]
  }
 ],
 "metadata": {
  "kernelspec": {
   "display_name": "Python [conda env:c4l]",
   "language": "python",
   "name": "conda-env-c4l-py"
  },
  "language_info": {
   "codemirror_mode": {
    "name": "ipython",
    "version": 3
   },
   "file_extension": ".py",
   "mimetype": "text/x-python",
   "name": "python",
   "nbconvert_exporter": "python",
   "pygments_lexer": "ipython3",
   "version": "3.6.0"
  }
 },
 "nbformat": 4,
 "nbformat_minor": 2
}
