{
 "cells": [
  {
   "cell_type": "markdown",
   "metadata": {},
   "source": [
    "### Gerichtsentscheidungen in Datenbank schreiben\n",
    "Der Unique Constraint des Primary Key schlägt fehl, wenn 'nur' Aktenzeichen und Datum als Schlüssel verwendet werden und es mehrere Dokumente mit demselben Aktenzeichen und Datum gibt, daher werden die Anhängsel '\\_a', '\\_b' etc. mit in die Datenbank genommen.\n",
    "\n",
    "Getestet mit `sqlite 3.13.0`."
   ]
  },
  {
   "cell_type": "code",
   "execution_count": null,
   "metadata": {},
   "outputs": [],
   "source": [
    "path_to_db = '../data/bgh.db'"
   ]
  },
  {
   "cell_type": "code",
   "execution_count": null,
   "metadata": {},
   "outputs": [],
   "source": [
    "path_to_files = # Pfad zu den einzulesenden Dateien hier (als String)"
   ]
  },
  {
   "cell_type": "code",
   "execution_count": null,
   "metadata": {},
   "outputs": [],
   "source": [
    "import sqlite3, re, os"
   ]
  },
  {
   "cell_type": "code",
   "execution_count": null,
   "metadata": {},
   "outputs": [],
   "source": [
    "con = sqlite3.connect(path_to_db)\n",
    "cur = con.cursor()\n",
    "sql = '''CREATE TABLE entscheidungen (\n",
    "            aktenzeichen TEXT,\n",
    "            entschdatum TEXT,\n",
    "            volltext TEXT,\n",
    "            PRIMARY KEY (aktenzeichen, entschdatum)\n",
    "            )'''\n",
    "cur.execute(sql)\n",
    "con.close()"
   ]
  },
  {
   "cell_type": "code",
   "execution_count": null,
   "metadata": {},
   "outputs": [],
   "source": [
    "con = sqlite3.connect(path_to_db)\n",
    "for file in [f for f in os.listdir(path_to_files) if f.endswith('.txt')]:\n",
    "    cur = con.cursor()\n",
    "    aktenzeichen = re.sub('-', '/', re.search(r'XI.*(?=\\.txt)', file).group(0))\n",
    "    entschdatum = file[:10]\n",
    "    with open(f'{path_to_files}/{file}', 'r') as f:\n",
    "        volltext = f.read()\n",
    "    sql = 'INSERT INTO entscheidungen VALUES (?, ?, ?)'\n",
    "    row = (aktenzeichen, entschdatum, volltext)\n",
    "    cur.execute(sql, row)\n",
    "con.commit()\n",
    "con.close()"
   ]
  },
  {
   "cell_type": "markdown",
   "metadata": {},
   "source": [
    "Ende."
   ]
  }
 ],
 "metadata": {
  "kernelspec": {
   "display_name": "Python [conda env:c4l]",
   "language": "python",
   "name": "conda-env-c4l-py"
  },
  "language_info": {
   "codemirror_mode": {
    "name": "ipython",
    "version": 3
   },
   "file_extension": ".py",
   "mimetype": "text/x-python",
   "name": "python",
   "nbconvert_exporter": "python",
   "pygments_lexer": "ipython3",
   "version": "3.6.0"
  }
 },
 "nbformat": 4,
 "nbformat_minor": 2
}
