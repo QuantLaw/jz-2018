{
 "cells": [
  {
   "cell_type": "markdown",
   "metadata": {},
   "source": [
    "### Entscheidungsdatenbank auf regulären Ausdruck durchsuchen\n",
    "Beispiel hier: 'spekulativ' und verwandte Wörter - für andere Suchbegriffe `regex`, `searchterm` und ggf. die Displayvariablen anpassen.\n",
    "\n",
    "Getestet mit `sqlite 3.13.0`, `networkx 1.11`, `matplotlib 2.0.2`, `numpy 1.12.0` und `seaborn 0.8.1`."
   ]
  },
  {
   "cell_type": "code",
   "execution_count": null,
   "metadata": {},
   "outputs": [],
   "source": [
    "import sqlite3, re\n",
    "\n",
    "def search_decision_texts(path_to_db, regex):\n",
    "    con = sqlite3.connect(path_to_db)\n",
    "    cur = con.cursor()\n",
    "    sql = '''SELECT aktenzeichen, entschdatum, volltext\n",
    "             FROM entscheidungen\n",
    "             ORDER BY date(entschdatum)'''\n",
    "    matches = {}\n",
    "    for row in con.execute(sql):\n",
    "        match = re.findall(regex, row[2], re.DOTALL)\n",
    "        if match:\n",
    "            matches[(row[1], row[0])] = len(match)\n",
    "    con.close()\n",
    "    return matches\n",
    "\n",
    "path_to_db = '../data/bgh.db'\n",
    "regex = r'.{0,20}[Ss]-?\\s*p-?\\s*-?e-?\\s*k-?\\s*u-?\\s*l.{0,20}'\n",
    "\n",
    "matches = search_decision_texts(path_to_db, regex)\n",
    "\n",
    "#       = {('1988-10-11', 'XI ZR 67/88'): 2,\n",
    "#          ('1989-02-28', 'XI ZR 70/88'): 1,\n",
    "#          ('1989-04-18', 'XI ZR 133/88'): 1,\n",
    "#            ...\n",
    "#         }"
   ]
  },
  {
   "cell_type": "code",
   "execution_count": null,
   "metadata": {},
   "outputs": [],
   "source": [
    "import networkx as nx, matplotlib.pyplot as plt, numpy as np, seaborn as sns"
   ]
  },
  {
   "cell_type": "code",
   "execution_count": null,
   "metadata": {},
   "outputs": [],
   "source": [
    "searchterm = 'spekulativ'\n",
    "startyear = 1988\n",
    "endyear = 2015\n",
    "yeardist = 30\n",
    "monthdist = 31"
   ]
  },
  {
   "cell_type": "code",
   "execution_count": null,
   "metadata": {},
   "outputs": [],
   "source": [
    "G = nx.Graph()\n",
    "for match in matches.keys():\n",
    "    G.add_node(match)\n",
    "    G.node[match]['az'] = re.search(r'\\d{1,3}/\\d{2}', match[1]).group(0)\n",
    "    G.node[match]['verfahren'] = re.search('(?<=XI )..', match[1]).group(0)\n",
    "    G.node[match]['jahr'] = int(match[0][:4])\n",
    "    G.node[match]['monat'] = int(match[0][5:7])\n",
    "    G.node[match]['tag'] = int(match[0][8:10])\n",
    "    G.node[match]['x'] = (G.node[match]['jahr']-startyear)*yeardist\n",
    "    G.node[match]['y'] = ((G.node[match]['monat']-1)*monthdist\n",
    "                          +G.node[match]['tag'])*2\n",
    "    G.node[match][f'{searchterm}'] = matches[match]"
   ]
  },
  {
   "cell_type": "code",
   "execution_count": null,
   "metadata": {},
   "outputs": [],
   "source": [
    "%matplotlib notebook"
   ]
  },
  {
   "cell_type": "code",
   "execution_count": null,
   "metadata": {},
   "outputs": [],
   "source": [
    "sns.set_style('whitegrid')"
   ]
  },
  {
   "cell_type": "code",
   "execution_count": null,
   "metadata": {},
   "outputs": [],
   "source": [
    "plt.rcParams['figure.figsize'] = (9,6)\n",
    "plt.rcParams['font.serif'] = 'BitstreamVeraSans Roman'\n",
    "plt.rcParams['font.family'] = 'serif'\n",
    "plt.rcParams['font.style'] = 'normal'\n",
    "plt.rcParams['font.size'] = 6.5"
   ]
  },
  {
   "cell_type": "code",
   "execution_count": null,
   "metadata": {},
   "outputs": [],
   "source": [
    "xticks = [n*yeardist for n in range(0,(endyear-startyear)+2)]\n",
    "xticklabels = [str(n) for n in range(startyear,endyear+1)]\n",
    "yticks = [n*31*2 for n in range(0,13)]\n",
    "yticklabels = ['Jan','Feb','Mär','Apr','Mai','Jun',\n",
    "               'Jul','Aug','Sep','Okt','Nov','Dec']"
   ]
  },
  {
   "cell_type": "code",
   "execution_count": null,
   "metadata": {
    "scrolled": false
   },
   "outputs": [],
   "source": [
    "xs = [G.node[n]['x'] for n in G.nodes()]\n",
    "ys = [G.node[n]['y'] for n in G.nodes()]\n",
    "sizes = [G.node[n][f'{searchterm}'] for n in G.nodes()]\n",
    "minsize, maxsize = 5, 20\n",
    "maxmatches = max(matches.values())\n",
    "fontsizes = np.linspace(minsize,maxsize,maxmatches)\n",
    "txt = ['$'+G.node[n]['az']+'$' for n in G.nodes()]\n",
    "colors = ['k' if G.node[n]['verfahren'] == 'ZR' else (\n",
    "    'red' if G.node[n]['verfahren'] == 'ZB' else 'blue') for n in G.nodes()]\n",
    "\n",
    "plt.scatter(xs,ys,s=sizes, marker='')\n",
    "plt.xlim(xticks[0],xticks[-1])\n",
    "plt.ylim(yticks[0],yticks[-1])\n",
    "plt.xticks(xticks,xticklabels)\n",
    "plt.yticks(yticks,yticklabels)\n",
    "plt.gca().get_xaxis().set_tick_params(which='major', pad=7.5)\n",
    "plt.gca().get_yaxis().set_tick_params(which='major', pad=7.5)\n",
    "for i, txt in enumerate(txt):\n",
    "    plt.text(xs[i], ys[i], txt, \n",
    "             fontdict=dict(fontsize=fontsizes[sizes[i]-1], color=colors[i],\n",
    "             verticalalignment='baseline', horizontalalignment='left'))"
   ]
  },
  {
   "cell_type": "markdown",
   "metadata": {},
   "source": [
    "Falls die Graphik extern gespeichert werden soll:"
   ]
  },
  {
   "cell_type": "code",
   "execution_count": null,
   "metadata": {},
   "outputs": [],
   "source": [
    "plt.savefig(f'../graphics/{searchterm}.png', dpi=1200) # Warnung kann ignoriert werden"
   ]
  },
  {
   "cell_type": "code",
   "execution_count": null,
   "metadata": {},
   "outputs": [],
   "source": [
    "plt.savefig(f'../graphics/{searchterm}.svg', format='svg') # Warnung kann ignoriert werden"
   ]
  },
  {
   "cell_type": "markdown",
   "metadata": {},
   "source": [
    "Ende."
   ]
  }
 ],
 "metadata": {
  "kernelspec": {
   "display_name": "Python [conda env:c4l]",
   "language": "python",
   "name": "conda-env-c4l-py"
  },
  "language_info": {
   "codemirror_mode": {
    "name": "ipython",
    "version": 3
   },
   "file_extension": ".py",
   "mimetype": "text/x-python",
   "name": "python",
   "nbconvert_exporter": "python",
   "pygments_lexer": "ipython3",
   "version": "3.6.0"
  }
 },
 "nbformat": 4,
 "nbformat_minor": 2
}
