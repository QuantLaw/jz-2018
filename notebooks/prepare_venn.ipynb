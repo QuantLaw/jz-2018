{
 "cells": [
  {
   "cell_type": "markdown",
   "metadata": {},
   "source": [
    "### Vorbereitung eines Venn-Diagramms zum Vergleich der Aktenzeichenabdeckung\n",
    "Setzt voraus, dass bereits um etwaige Buchstaben bereinigte und im Format angepasste Listen von Aktenzeichen in demselben Format für alle drei Quellen vorliegen.\n",
    "* BGH Versand: a\n",
    "* BGH Internet: b\n",
    "* BGH juris: c"
   ]
  },
  {
   "cell_type": "code",
   "execution_count": null,
   "metadata": {},
   "outputs": [],
   "source": [
    "with open('../data/bgh_versand_aktenzeichen.txt') as f:\n",
    "    a = set(f.readlines())\n",
    "with open('../data/bgh_internet_aktenzeichen.txt') as f:\n",
    "    b = set(f.readlines())\n",
    "with open('../data/bgh_juris_aktenzeichen.txt') as f:\n",
    "    c = set(f.readlines())"
   ]
  },
  {
   "cell_type": "code",
   "execution_count": null,
   "metadata": {},
   "outputs": [],
   "source": [
    "len(a)"
   ]
  },
  {
   "cell_type": "code",
   "execution_count": null,
   "metadata": {},
   "outputs": [],
   "source": [
    "len(b)"
   ]
  },
  {
   "cell_type": "code",
   "execution_count": null,
   "metadata": {},
   "outputs": [],
   "source": [
    "len(c)"
   ]
  },
  {
   "cell_type": "code",
   "execution_count": null,
   "metadata": {},
   "outputs": [],
   "source": [
    "abc = (a.intersection(b)).intersection(c)\n",
    "len(abc)"
   ]
  },
  {
   "cell_type": "code",
   "execution_count": null,
   "metadata": {},
   "outputs": [],
   "source": [
    "ab_c = a.intersection(b) - c\n",
    "len(ab_c)"
   ]
  },
  {
   "cell_type": "code",
   "execution_count": null,
   "metadata": {
    "scrolled": true
   },
   "outputs": [],
   "source": [
    "ac_b = a.intersection(c) - b\n",
    "len(ac_b)"
   ]
  },
  {
   "cell_type": "code",
   "execution_count": null,
   "metadata": {},
   "outputs": [],
   "source": [
    "bc_a = b.intersection(c) - a\n",
    "len(bc_a)"
   ]
  },
  {
   "cell_type": "code",
   "execution_count": null,
   "metadata": {},
   "outputs": [],
   "source": [
    "a_b_c = a - b - c\n",
    "len(a_b_c)"
   ]
  },
  {
   "cell_type": "code",
   "execution_count": null,
   "metadata": {},
   "outputs": [],
   "source": [
    "b_a_c = b - a - c\n",
    "len(b_a_c)"
   ]
  },
  {
   "cell_type": "code",
   "execution_count": null,
   "metadata": {},
   "outputs": [],
   "source": [
    "c_a_b = c - a - b\n",
    "len(c_a_b)"
   ]
  },
  {
   "cell_type": "code",
   "execution_count": null,
   "metadata": {},
   "outputs": [],
   "source": [
    "len(a | b | c)"
   ]
  },
  {
   "cell_type": "markdown",
   "metadata": {},
   "source": [
    "Ende."
   ]
  }
 ],
 "metadata": {
  "kernelspec": {
   "display_name": "Python [conda env:c4l]",
   "language": "python",
   "name": "conda-env-c4l-py"
  },
  "language_info": {
   "codemirror_mode": {
    "name": "ipython",
    "version": 3
   },
   "file_extension": ".py",
   "mimetype": "text/x-python",
   "name": "python",
   "nbconvert_exporter": "python",
   "pygments_lexer": "ipython3",
   "version": "3.6.0"
  }
 },
 "nbformat": 4,
 "nbformat_minor": 2
}
