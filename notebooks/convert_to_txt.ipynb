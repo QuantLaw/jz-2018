{
 "cells": [
  {
   "cell_type": "markdown",
   "metadata": {},
   "source": [
    "### Dateien von PDF zu TXT konvertieren\n",
    "\n",
    "Getestet mit `textract 1.5.0` und `python 2.7.13`."
   ]
  },
  {
   "cell_type": "code",
   "execution_count": null,
   "metadata": {},
   "outputs": [],
   "source": [
    "sourcepath = # Pfad zum Ordner, in dem die PDF-Dateien liegen, als String\n",
    "targetpath = # Pfad zum Ordner, in den die TXT-Dateien gelegt werden sollen, als String"
   ]
  },
  {
   "cell_type": "code",
   "execution_count": null,
   "metadata": {},
   "outputs": [],
   "source": [
    "import textract, os"
   ]
  },
  {
   "cell_type": "code",
   "execution_count": null,
   "metadata": {},
   "outputs": [],
   "source": [
    "def convert(file_to_convert, file_to_save):\n",
    "    \"\"\"Receives a PDF file located at file_to_convert and creates from it a TXT file located at file_to_save.\"\"\"\n",
    "    text = textract.process(file_to_convert)\n",
    "    with open(file_to_save, \"wb\") as f:\n",
    "        f.write(text)"
   ]
  },
  {
   "cell_type": "code",
   "execution_count": null,
   "metadata": {},
   "outputs": [],
   "source": [
    "def convert_all(in_folder, out_folder):\n",
    "    \"\"\"Receives a collection of PDF files located in the in_folder\n",
    "       and converts each file into a TXT file located in the out_folder.\n",
    "    \"\"\"\n",
    "    for filename in os.listdir(in_folder):\n",
    "        if filename.endswith(\".pdf\"):\n",
    "            file_to_convert = \"{}/{}\".format(in_folder, filename)\n",
    "            txtname = \"{}.txt\".format(filename[:-4])\n",
    "            file_to_save = \"{}/{}\".format(out_folder, txtname)\n",
    "            convert(file_to_convert, file_to_save)"
   ]
  },
  {
   "cell_type": "markdown",
   "metadata": {},
   "source": [
    "Nun die eigentliche Konvertierung:"
   ]
  },
  {
   "cell_type": "code",
   "execution_count": null,
   "metadata": {},
   "outputs": [],
   "source": [
    "convert_all(sourcepath, targetpath)"
   ]
  },
  {
   "cell_type": "markdown",
   "metadata": {},
   "source": [
    "Ende."
   ]
  }
 ],
 "metadata": {
  "kernelspec": {
   "display_name": "Python [conda env:gamedev]",
   "language": "python",
   "name": "conda-env-gamedev-py"
  },
  "language_info": {
   "codemirror_mode": {
    "name": "ipython",
    "version": 2
   },
   "file_extension": ".py",
   "mimetype": "text/x-python",
   "name": "python",
   "nbconvert_exporter": "python",
   "pygments_lexer": "ipython2",
   "version": "2.7.13"
  }
 },
 "nbformat": 4,
 "nbformat_minor": 2
}
